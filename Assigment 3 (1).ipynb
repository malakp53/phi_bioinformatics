{
 "cells": [
  {
   "cell_type": "code",
   "execution_count": 62,
   "metadata": {},
   "outputs": [
    {
     "name": "stdout",
     "output_type": "stream",
     "text": [
      "Requirement already satisfied: pyfaidx in c:\\users\\malak\\anaconda3\\lib\\site-packages (0.6.4)\n",
      "Requirement already satisfied: six in c:\\users\\malak\\anaconda3\\lib\\site-packages (from pyfaidx) (1.14.0)\n",
      "Requirement already satisfied: setuptools>=0.7 in c:\\users\\malak\\anaconda3\\lib\\site-packages (from pyfaidx) (45.2.0.post20200210)\n"
     ]
    }
   ],
   "source": [
    "#Import necessary packages\n",
    "! pip install pyfaidx \n",
    "from pyfaidx import Fasta\n",
    "\n",
    "\n"
   ]
  },
  {
   "cell_type": "code",
   "execution_count": 63,
   "metadata": {},
   "outputs": [],
   "source": [
    "#Import necessary packages\n",
    "\n",
    "import os\n",
    "os.getcwd()\n",
    "os.chdir(r\"C:\\Users\\malak\\Desktop\\bioinfomratics\")\n",
    "import pandas as pd\n",
    "import numpy as np\n"
   ]
  },
  {
   "cell_type": "code",
   "execution_count": 64,
   "metadata": {},
   "outputs": [],
   "source": [
    "genes= Fasta(\"genes.fasta\")\n"
   ]
  },
  {
   "cell_type": "code",
   "execution_count": 65,
   "metadata": {},
   "outputs": [],
   "source": [
    "#Define a function that takes in a DNA sequence and returns the GC content of the sequence\n",
    "\n",
    "#using the built in function count\n",
    "\n",
    "def GC_content(dna):\n",
    "    count=dna.count('C')+dna.count('G')\n",
    "    percent=(count/len(dna))*100\n",
    "    return percent\n",
    "\n",
    "\n",
    "#USing a for loop instead of .count\n",
    "def GC_count(dna2):\n",
    "    count=0\n",
    "    for i in range(0, len(dna2)):\n",
    "        if dna[i]=='G'or dna[i] == 'C':\n",
    "            count+=1\n",
    "    percent=(count/len(dna))*100\n",
    "            \n",
    "    return percent\n",
    "        \n",
    "\n"
   ]
  },
  {
   "cell_type": "code",
   "execution_count": 70,
   "metadata": {},
   "outputs": [],
   "source": [
    "def dna_to_aa(seq, init_pos=0):\n",
    "    DNA_codons = {\n",
    "    'GCA':'A', 'GCC':'A', 'GCG':'A', 'GCT':'A',\n",
    "    'TGC':'C', 'TGT':'C',\n",
    "    'GAC':'D', 'GAT':'D',\n",
    "    'GAA':'E', 'GAG':'E',\n",
    "    'TTC':'F', 'TTT':'F',\n",
    "    'GGA':'G', 'GGC':'G', 'GGG':'G', 'GGT':'G',\n",
    "    'CAC':'H', 'CAT':'H',\n",
    "    'ATA':'I', 'ATC':'I', 'ATT':'I',\n",
    "    'AAA':'K', 'AAG':'K',\n",
    "    'TTA':'L', 'TTG':'L', 'CTA':'L', 'CTC':'L', 'CTG':'L',\n",
    "    'CTT':'L',\n",
    "    'ATG':'M',\n",
    "    'AAC':'N', 'AAT':'N',\n",
    "    'CCA':'P', 'CCC':'P', 'CCG':'P', 'CCT':'P',\n",
    "    'CAA':'Q', 'CAG':'Q',\n",
    "    'CGA':'R', 'CGC':'R', 'CGG':'R', 'CGT':'R', 'AGA':'R',\n",
    "    'AGG':'R',\n",
    "    'TCA':'S', 'TCC':'S', 'TCG':'S', 'TCT':'S', 'AGC':'S',\n",
    "    'AGT':'S',\n",
    "    'ACA':'T', 'ACC':'T', 'ACG':'T', 'ACT':'T',\n",
    "    'GTA':'V', 'GTC':'V', 'GTG':'V', 'GTT':'V',\n",
    "    'TGG':'W',\n",
    "    'TAC':'Y', 'TAT':'Y',\n",
    "    'TGA':'_', 'TAA':'_', 'TAG':'_'\n",
    "    }\n",
    "    protein = [\n",
    "        DNA_codons[seq[pos:pos + 3]]\n",
    "        for pos in range(init_pos, len(seq)-2, 3)\n",
    "    ]\n",
    "    protein = ''.join(protein)\n",
    "    print(f\"The protein sequence in reading frame {init_pos+1} is {protein}\")\n",
    "    return protein\n",
    "\n",
    "    \n"
   ]
  },
  {
   "cell_type": "code",
   "execution_count": 91,
   "metadata": {},
   "outputs": [
    {
     "name": "stdout",
     "output_type": "stream",
     "text": [
      "CCCCGCCCCTCTGGCGGCCCGCCGTCCCAGACGCGGGAAGAGCTTGGCCGGTTTCGAGTCGCTGGCCTGCAGCTTCCCTGTGGTTTCCCGAGGCTTCCT\n"
     ]
    }
   ],
   "source": [
    "#Set the variable ‘dna’ to the first 99 base pairs of the gi|543583786|ref|NM_001282543.1|sequence\n",
    "dna=genes['gi|543583786|ref|NM_001282543.1|'][0:99]\n",
    "print(dna)"
   ]
  },
  {
   "cell_type": "code",
   "execution_count": 90,
   "metadata": {},
   "outputs": [
    {
     "name": "stdout",
     "output_type": "stream",
     "text": [
      "70.70707070707071\n"
     ]
    }
   ],
   "source": [
    "#6. Calculate GC content of the ‘dna’ sequence\n",
    "print(GC_con(dna))\n"
   ]
  },
  {
   "cell_type": "code",
   "execution_count": 89,
   "metadata": {
    "scrolled": true
   },
   "outputs": [
    {
     "name": "stdout",
     "output_type": "stream",
     "text": [
      "The protein sequence in reading frame 1 is PRPSGGPPSQTREELGRFRVAGLQLPCGFPRLP\n",
      "PRPSGGPPSQTREELGRFRVAGLQLPCGFPRLP\n"
     ]
    }
   ],
   "source": [
    "# Set the variable ‘protein’ to the protein sequence of ‘dna’, use your defined function to\n",
    "#get the protein sequence\n",
    "protein=dna_to_aa(dna)\n",
    "print(protein)\n"
   ]
  },
  {
   "cell_type": "code",
   "execution_count": 86,
   "metadata": {},
   "outputs": [],
   "source": [
    "# Use a for loop to calculate the aa content of each amino acid in ‘protein’\n",
    "def aa_content(protein):\n",
    "    aa_dic= {'A':0, 'C':0,'D':0, 'E':0,'F':0, 'G':0,'H':0, 'I':0,'K':0, 'L':0,'M':0, \n",
    "             'N':0,'P':0, 'Q':0,'R':0, 'S':0,'T':0, 'V':0,'W':0, 'Y':0, }\n",
    "    for key in aa_dic:\n",
    "        aa_dic[key]= protein.count(key)\n",
    "    return aa_dic\n",
    "    \n",
    "        \n",
    "    "
   ]
  },
  {
   "cell_type": "code",
   "execution_count": 88,
   "metadata": {},
   "outputs": [
    {
     "name": "stdout",
     "output_type": "stream",
     "text": [
      "{'A': 1, 'C': 1, 'D': 0, 'E': 2, 'F': 2, 'G': 5, 'H': 0, 'I': 0, 'K': 0, 'L': 4, 'M': 0, 'N': 0, 'P': 7, 'Q': 2, 'R': 5, 'S': 2, 'T': 1, 'V': 1, 'W': 0, 'Y': 0}\n"
     ]
    }
   ],
   "source": [
    "print(aa_content(protein))"
   ]
  },
  {
   "cell_type": "code",
   "execution_count": null,
   "metadata": {},
   "outputs": [],
   "source": []
  },
  {
   "cell_type": "code",
   "execution_count": null,
   "metadata": {},
   "outputs": [],
   "source": []
  },
  {
   "cell_type": "code",
   "execution_count": null,
   "metadata": {},
   "outputs": [],
   "source": []
  },
  {
   "cell_type": "code",
   "execution_count": null,
   "metadata": {},
   "outputs": [],
   "source": []
  }
 ],
 "metadata": {
  "kernelspec": {
   "display_name": "Python 3",
   "language": "python",
   "name": "python3"
  },
  "language_info": {
   "codemirror_mode": {
    "name": "ipython",
    "version": 3
   },
   "file_extension": ".py",
   "mimetype": "text/x-python",
   "name": "python",
   "nbconvert_exporter": "python",
   "pygments_lexer": "ipython3",
   "version": "3.7.6"
  }
 },
 "nbformat": 4,
 "nbformat_minor": 4
}
