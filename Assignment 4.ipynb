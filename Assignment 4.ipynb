{
 "cells": [
  {
   "cell_type": "code",
   "execution_count": 9,
   "metadata": {},
   "outputs": [
    {
     "name": "stdout",
     "output_type": "stream",
     "text": [
      "Collecting biopython\n",
      "  Downloading biopython-1.79-cp37-cp37m-win_amd64.whl (2.3 MB)\n",
      "Requirement already satisfied: numpy in c:\\users\\malak\\anaconda3\\lib\\site-packages (from biopython) (1.18.1)\n",
      "Installing collected packages: biopython\n",
      "Successfully installed biopython-1.79\n"
     ]
    }
   ],
   "source": [
    "!pip install biopython\n",
    "\n"
   ]
  },
  {
   "cell_type": "code",
   "execution_count": 15,
   "metadata": {},
   "outputs": [],
   "source": [
    "#Import necessary packages\n",
    "from pyfaidx import Fasta\n",
    "\n",
    "import os\n",
    "os.getcwd()\n",
    "os.chdir(r\"C:\\Users\\malak\\Desktop\\bioinfomratics\")\n",
    "import pandas as pd\n",
    "import numpy as np\n",
    "import matplotlib.pyplot as plt\n",
    "\n"
   ]
  },
  {
   "cell_type": "code",
   "execution_count": 11,
   "metadata": {},
   "outputs": [],
   "source": [
    "genes= Fasta(\"genes.fasta\")\n"
   ]
  },
  {
   "cell_type": "code",
   "execution_count": 12,
   "metadata": {},
   "outputs": [],
   "source": [
    "from Bio import SeqIO\n",
    "\n",
    "sequences = []\n",
    "for seq_record in SeqIO.parse(\"genes.fasta\", \"fasta\"):\n",
    "    sequences.append(seq_record.seq)"
   ]
  },
  {
   "cell_type": "code",
   "execution_count": 13,
   "metadata": {},
   "outputs": [
    {
     "data": {
      "text/plain": [
       "[Seq('ATGGTCAGCTGGGGTCGTTTCATCTGCCTGGTCGTGGTCACCATGGCAACCTTG...TAA'),\n",
       " Seq('ATGACATCATTTTCCACCTCTGCTCAGTGTTCAACATCTGACAGTGCTTGCAGG...CTC'),\n",
       " Seq('ATGACATCATTTTCCACCTCTGCTCAGTGTTCAACATCTGACAGTGCTTGCAGG...CTC'),\n",
       " Seq('CCCCGCCCCTCTGGCGGCCCGCCGTCCCAGACGCGGGAAGAGCTTGGCCGGTTT...AAA'),\n",
       " Seq('CCCCGCCCCTCTGGCGGCCCGCCGTCCCAGACGCGGGAAGAGCTTGGCCGGTTT...AAA'),\n",
       " Seq('CCCCGCCCCTCTGGCGGCCCGCCGTCCCAGACGCGGGAAGAGCTTGGCCGGTTT...AAA'),\n",
       " Seq('CCCCGCCCCTCTGGCGGCCCGCCGTCCCAGACGCGGGAAGAGCTTGGCCGGTTT...AAA'),\n",
       " Seq('CCCCGCCCCTCTGGCGGCCCGCCGTCCCAGACGCGGGAAGAGCTTGGCCGGTTT...AAA'),\n",
       " Seq('CCCCGCCCCTCTGGCGGCCCGCCGTCCCAGACGCGGGAAGAGCTTGGCCGGTTT...AAA'),\n",
       " Seq('CCCCGCCCCTCTGGCGGCCCGCCGTCCCAGACGCGGGAAGAGCTTGGCCGGTTT...AAA'),\n",
       " Seq('CCCCGCCCCTCTGGCGGCCCGCCGTCCCAGACGCGGGAAGAGCTTGGCCGGTTT...AAA'),\n",
       " Seq('GTGCTGGGACTACAGAGTCCAGTGTCGTGCTGCTGCAGGAGCACCCCTGCCTGG...TAA'),\n",
       " Seq('ACCGGATGCTCGGCATGAACCACTAGGCGCCTGGCGGGGGTGATCTGTCGGAGC...TAA'),\n",
       " Seq('TCTGTCGGAGCGACCGGCTTGGCGCCTGCCTGTCCCCAGCCCCTCTCAGCTTGA...TAA'),\n",
       " Seq('GCGACCGGCTTGGCGCCTGCCTGTCCCCAGCCCCTCTCAGCTTGAACTCCTTCC...TAA'),\n",
       " Seq('GCATGCCCGCATCTGCTGTCCGACAGGCGGAAGACGAGCCCAGAGGCGGAGCAG...GAC'),\n",
       " Seq('GCATGCCCGCATCTGCTGTCCGACAGGCGGAAGACGAGCCCAGAGGCGGAGCAG...GAC'),\n",
       " Seq('GTGTGGGAGGCCGGAAGTTGCGGCTTCATTACTCGCCATTTCAAAATGCTGCCG...AAA'),\n",
       " Seq('GTGTGGGAGGCCGGAAGTTGCGGCTTCATTACTCGCCATTTCAAAATGCTGCCG...TTA'),\n",
       " Seq('AAGTTGCGGCTTCATTACTCGCCATTTCAAAATGCTGCCGAGGCCCTAGGATCT...ATA')]"
      ]
     },
     "execution_count": 13,
     "metadata": {},
     "output_type": "execute_result"
    }
   ],
   "source": [
    "sequences"
   ]
  },
  {
   "cell_type": "code",
   "execution_count": 26,
   "metadata": {},
   "outputs": [
    {
     "data": {
      "image/png": "[encoded data removed]",
      "text/plain": [
       "<Figure size 432x288 with 1 Axes>"
      ]
     },
     "metadata": {
      "needs_background": "light"
     },
     "output_type": "display_data"
    }
   ],
   "source": [
    "sizes = [len(rec) for rec in sequences]\n",
    "\n",
    "plt.hist(sizes, bins=20)\n",
    "plt.title(f\"{len(sizes)} genes sequences\\nLengths {min(sizes)} to {max(sizes)}\")\n",
    "plt.xlabel(\"Sequence length (bp)\")\n",
    "plt.ylabel(\"Count\")\n",
    "plt.show()"
   ]
  },
  {
   "cell_type": "code",
   "execution_count": 27,
   "metadata": {},
   "outputs": [],
   "source": [
    "from Bio.SeqUtils import GC\n",
    "gc_values = sorted(GC(rec) for rec in sequences)"
   ]
  },
  {
   "cell_type": "code",
   "execution_count": 39,
   "metadata": {},
   "outputs": [
    {
     "data": {
      "image/png": "[encoded data removed]",
      "text/plain": [
       "<Figure size 432x288 with 1 Axes>"
      ]
     },
     "metadata": {
      "needs_background": "light"
     },
     "output_type": "display_data"
    }
   ],
   "source": [
    "plt.plot(gc_values)\n",
    "plt.title(f\"{len(gc_values)} genes sequences\\nGC%% {min(gc_values)} to {max(gc_values)}\")\n",
    "plt.xlabel(\"Genes\")\n",
    "plt.ylabel(\"GC%\")\n",
    "plt.show()\n"
   ]
  },
  {
   "cell_type": "code",
   "execution_count": 34,
   "metadata": {},
   "outputs": [
    {
     "data": {
      "text/html": [
       "<div>\n",
       "<style scoped>\n",
       "    .dataframe tbody tr th:only-of-type {\n",
       "        vertical-align: middle;\n",
       "    }\n",
       "\n",
       "    .dataframe tbody tr th {\n",
       "        vertical-align: top;\n",
       "    }\n",
       "\n",
       "    .dataframe thead th {\n",
       "        text-align: right;\n",
       "    }\n",
       "</style>\n",
       "<table border=\"1\" class=\"dataframe\">\n",
       "  <thead>\n",
       "    <tr style=\"text-align: right;\">\n",
       "      <th></th>\n",
       "      <th>Control_1</th>\n",
       "      <th>Control_2</th>\n",
       "      <th>Control_3</th>\n",
       "      <th>Condition_1_1</th>\n",
       "      <th>Condition_1_2</th>\n",
       "      <th>Condition_1_3</th>\n",
       "      <th>Condition_2_1</th>\n",
       "      <th>Condition_2_2</th>\n",
       "      <th>Condition_2_3</th>\n",
       "    </tr>\n",
       "    <tr>\n",
       "      <th>Gene_Symbol</th>\n",
       "      <th></th>\n",
       "      <th></th>\n",
       "      <th></th>\n",
       "      <th></th>\n",
       "      <th></th>\n",
       "      <th></th>\n",
       "      <th></th>\n",
       "      <th></th>\n",
       "      <th></th>\n",
       "    </tr>\n",
       "  </thead>\n",
       "  <tbody>\n",
       "    <tr>\n",
       "      <th>HERC5</th>\n",
       "      <td>2.35</td>\n",
       "      <td>2.18</td>\n",
       "      <td>1.90</td>\n",
       "      <td>3.41</td>\n",
       "      <td>2.99</td>\n",
       "      <td>3.25</td>\n",
       "      <td>2.67</td>\n",
       "      <td>2.55</td>\n",
       "      <td>2.46</td>\n",
       "    </tr>\n",
       "    <tr>\n",
       "      <th>IFIT1</th>\n",
       "      <td>4.50</td>\n",
       "      <td>4.42</td>\n",
       "      <td>4.58</td>\n",
       "      <td>6.31</td>\n",
       "      <td>6.26</td>\n",
       "      <td>6.23</td>\n",
       "      <td>6.08</td>\n",
       "      <td>5.52</td>\n",
       "      <td>5.21</td>\n",
       "    </tr>\n",
       "    <tr>\n",
       "      <th>IFIT2</th>\n",
       "      <td>4.34</td>\n",
       "      <td>4.84</td>\n",
       "      <td>4.76</td>\n",
       "      <td>5.91</td>\n",
       "      <td>5.96</td>\n",
       "      <td>5.95</td>\n",
       "      <td>5.56</td>\n",
       "      <td>5.36</td>\n",
       "      <td>4.97</td>\n",
       "    </tr>\n",
       "    <tr>\n",
       "      <th>IFNA4</th>\n",
       "      <td>1.42</td>\n",
       "      <td>1.52</td>\n",
       "      <td>1.44</td>\n",
       "      <td>1.73</td>\n",
       "      <td>2.05</td>\n",
       "      <td>2.35</td>\n",
       "      <td>1.14</td>\n",
       "      <td>1.54</td>\n",
       "      <td>1.61</td>\n",
       "    </tr>\n",
       "    <tr>\n",
       "      <th>IFNA7</th>\n",
       "      <td>0.88</td>\n",
       "      <td>1.22</td>\n",
       "      <td>0.56</td>\n",
       "      <td>1.46</td>\n",
       "      <td>1.23</td>\n",
       "      <td>1.70</td>\n",
       "      <td>1.23</td>\n",
       "      <td>0.71</td>\n",
       "      <td>0.64</td>\n",
       "    </tr>\n",
       "  </tbody>\n",
       "</table>\n",
       "</div>"
      ],
      "text/plain": [
       "             Control_1  Control_2  Control_3  Condition_1_1  Condition_1_2  \\\n",
       "Gene_Symbol                                                                  \n",
       "HERC5             2.35       2.18       1.90           3.41           2.99   \n",
       "IFIT1             4.50       4.42       4.58           6.31           6.26   \n",
       "IFIT2             4.34       4.84       4.76           5.91           5.96   \n",
       "IFNA4             1.42       1.52       1.44           1.73           2.05   \n",
       "IFNA7             0.88       1.22       0.56           1.46           1.23   \n",
       "\n",
       "             Condition_1_3  Condition_2_1  Condition_2_2  Condition_2_3  \n",
       "Gene_Symbol                                                              \n",
       "HERC5                 3.25           2.67           2.55           2.46  \n",
       "IFIT1                 6.23           6.08           5.52           5.21  \n",
       "IFIT2                 5.95           5.56           5.36           4.97  \n",
       "IFNA4                 2.35           1.14           1.54           1.61  \n",
       "IFNA7                 1.70           1.23           0.71           0.64  "
      ]
     },
     "execution_count": 34,
     "metadata": {},
     "output_type": "execute_result"
    }
   ],
   "source": [
    "#Bonus question \n",
    "#RNA SEQ Heat map\n",
    "import seaborn as sns\n",
    "import csv\n",
    "#Loading data\n",
    "rna_seq = pd.read_csv('RNASeq.csv',index_col=0)\n",
    "rna_seq.head()"
   ]
  },
  {
   "cell_type": "code",
   "execution_count": 38,
   "metadata": {},
   "outputs": [
    {
     "data": {
      "text/plain": [
       "<seaborn.matrix.ClusterGrid at 0x1e92b352e48>"
      ]
     },
     "execution_count": 38,
     "metadata": {},
     "output_type": "execute_result"
    },
    {
     "data": {
      "image/png": "[encoded data removed]",
      "text/plain": [
       "<Figure size 720x288 with 4 Axes>"
      ]
     },
     "metadata": {
      "needs_background": "light"
     },
     "output_type": "display_data"
    }
   ],
   "source": [
    "# Packages to plot clustergram\n",
    "from mpl_toolkits.axes_grid1.axes_divider import make_axes_locatable\n",
    "from mpl_toolkits.axes_grid1.colorbar import colorbar\n",
    " \n",
    "# Plot clustergram\n",
    "g = sns.clustermap(rna_seq, z_score=0, cmap=\"vlag\", figsize=(10, 4), method='average', cbar_kws={\"ticks\":[-1.5,0,1.5]})\n",
    "g"
   ]
  },
  {
   "cell_type": "code",
   "execution_count": null,
   "metadata": {},
   "outputs": [],
   "source": []
  }
 ],
 "metadata": {
  "kernelspec": {
   "display_name": "Python 3",
   "language": "python",
   "name": "python3"
  },
  "language_info": {
   "codemirror_mode": {
    "name": "ipython",
    "version": 3
   },
   "file_extension": ".py",
   "mimetype": "text/x-python",
   "name": "python",
   "nbconvert_exporter": "python",
   "pygments_lexer": "ipython3",
   "version": "3.7.6"
  }
 },
 "nbformat": 4,
 "nbformat_minor": 4
}
