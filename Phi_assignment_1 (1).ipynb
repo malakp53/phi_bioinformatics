{
 "cells": [
  {
   "cell_type": "code",
   "execution_count": 17,
   "metadata": {},
   "outputs": [
    {
     "name": "stdout",
     "output_type": "stream",
     "text": [
      "C:\\Users\\malak\\Desktop\\bioinfomratics\n"
     ]
    }
   ],
   "source": [
    "#Check working directory\n",
    "import os\n",
    "os. getcwd() \n",
    "#Change Working Directory\n",
    "%cd C:\\Users\\malak\\Desktop\\bioinfomratics\n"
   ]
  },
  {
   "cell_type": "code",
   "execution_count": 8,
   "metadata": {},
   "outputs": [],
   "source": [
    "#import Pandas\n",
    "import pandas as pd\n",
    "#import numpy\n",
    "import numpy as np\n",
    "#Open CSV file, hapc=Haplotype Comparison\n",
    "hapc= pd.read_csv(\"phi_Assigment.csv\")"
   ]
  },
  {
   "cell_type": "code",
   "execution_count": 13,
   "metadata": {},
   "outputs": [
    {
     "name": "stdout",
     "output_type": "stream",
     "text": [
      "    Type Filter  TRUTH.TOTAL  TRUTH.TP  TRUTH.FN  QUERY.TOTAL  QUERY.FP  \\\n",
      "0  INDEL    ALL         8937      7839      1098        11812       343   \n",
      "1  INDEL   PASS         8937      7550      1387         9971       283   \n",
      "2    SNP    ALL        52494     52125       369        90092       582   \n",
      "3    SNP   PASS        52494     46920      5574        48078       143   \n",
      "\n",
      "   QUERY.UNK  FP.gt  FP.al  METRIC.Recall  METRIC.Precision  METRIC.Frac_NA  \\\n",
      "0       3520     45    283       0.877140          0.958635        0.298002   \n",
      "1       1964     30    242       0.844803          0.964656        0.196971   \n",
      "2      37348    107    354       0.992971          0.988966        0.414554   \n",
      "3        992      8     97       0.893816          0.996963        0.020633   \n",
      "\n",
      "   METRIC.F1_Score  TRUTH.TOTAL.TiTv_ratio  QUERY.TOTAL.TiTv_ratio  \\\n",
      "0         0.916079                     NaN                     NaN   \n",
      "1         0.900760                     NaN                     NaN   \n",
      "2         0.990964                2.082614                1.745874   \n",
      "3         0.942576                2.082614                2.089282   \n",
      "\n",
      "   TRUTH.TOTAL.het_hom_ratio  QUERY.TOTAL.het_hom_ratio  \n",
      "0                   1.357991                   1.457627  \n",
      "1                   1.357991                   1.239305  \n",
      "2                   1.594335                   3.132586  \n",
      "3                   1.594335                   1.487599  \n"
     ]
    }
   ],
   "source": [
    "#View data\n",
    "print(hapc)"
   ]
  },
  {
   "cell_type": "code",
   "execution_count": 9,
   "metadata": {},
   "outputs": [
    {
     "data": {
      "text/html": [
       "<div>\n",
       "<style scoped>\n",
       "    .dataframe tbody tr th:only-of-type {\n",
       "        vertical-align: middle;\n",
       "    }\n",
       "\n",
       "    .dataframe tbody tr th {\n",
       "        vertical-align: top;\n",
       "    }\n",
       "\n",
       "    .dataframe thead th {\n",
       "        text-align: right;\n",
       "    }\n",
       "</style>\n",
       "<table border=\"1\" class=\"dataframe\">\n",
       "  <thead>\n",
       "    <tr style=\"text-align: right;\">\n",
       "      <th></th>\n",
       "      <th>Type</th>\n",
       "      <th>Filter</th>\n",
       "      <th>TRUTH.TP</th>\n",
       "      <th>TRUTH.FN</th>\n",
       "      <th>QUERY.FP</th>\n",
       "      <th>METRIC.Precision</th>\n",
       "    </tr>\n",
       "  </thead>\n",
       "  <tbody>\n",
       "    <tr>\n",
       "      <th>0</th>\n",
       "      <td>INDEL</td>\n",
       "      <td>ALL</td>\n",
       "      <td>7839</td>\n",
       "      <td>1098</td>\n",
       "      <td>343</td>\n",
       "      <td>0.958635</td>\n",
       "    </tr>\n",
       "    <tr>\n",
       "      <th>1</th>\n",
       "      <td>INDEL</td>\n",
       "      <td>PASS</td>\n",
       "      <td>7550</td>\n",
       "      <td>1387</td>\n",
       "      <td>283</td>\n",
       "      <td>0.964656</td>\n",
       "    </tr>\n",
       "    <tr>\n",
       "      <th>2</th>\n",
       "      <td>SNP</td>\n",
       "      <td>ALL</td>\n",
       "      <td>52125</td>\n",
       "      <td>369</td>\n",
       "      <td>582</td>\n",
       "      <td>0.988966</td>\n",
       "    </tr>\n",
       "    <tr>\n",
       "      <th>3</th>\n",
       "      <td>SNP</td>\n",
       "      <td>PASS</td>\n",
       "      <td>46920</td>\n",
       "      <td>5574</td>\n",
       "      <td>143</td>\n",
       "      <td>0.996963</td>\n",
       "    </tr>\n",
       "  </tbody>\n",
       "</table>\n",
       "</div>"
      ],
      "text/plain": [
       "    Type Filter  TRUTH.TP  TRUTH.FN  QUERY.FP  METRIC.Precision\n",
       "0  INDEL    ALL      7839      1098       343          0.958635\n",
       "1  INDEL   PASS      7550      1387       283          0.964656\n",
       "2    SNP    ALL     52125       369       582          0.988966\n",
       "3    SNP   PASS     46920      5574       143          0.996963"
      ]
     },
     "execution_count": 9,
     "metadata": {},
     "output_type": "execute_result"
    }
   ],
   "source": [
    "#Create a list that contains the following elements: Type, Filter, TRUTH.TP, TRUTH.FN, QUERY.FP, METRIC.Precision.\n",
    "\n",
    "hapc_list=[\"Type\", \"Filter\", \"TRUTH.TP\",\"TRUTH.FN\", \"QUERY.FP\", \"METRIC.Precision\"]\n",
    "\n",
    "# Use the list to subset the data frame and keep the desired columns.\n",
    "hapc_sub=hapc[hapc_list]\n",
    "#View hapc_sub\n",
    "hapc_sub"
   ]
  },
  {
   "cell_type": "code",
   "execution_count": 10,
   "metadata": {},
   "outputs": [],
   "source": [
    "#Create two numpy arrays, one with the TRUTH.TP numbers and another with the QUERY.FP numbers\n",
    "Truth_TP= np.array(hapc_sub[\"TRUTH.TP\"])\n",
    "QUERY_FP= np.array(hapc_sub[\"QUERY.FP\"])\n"
   ]
  },
  {
   "cell_type": "code",
   "execution_count": 11,
   "metadata": {},
   "outputs": [],
   "source": [
    "#Calculate precision using your numpy arrays. Hint: Precision = True Positives /(True Positives + False Positives)\n",
    "precision= Truth_TP/(Truth_TP+QUERY_FP)"
   ]
  },
  {
   "cell_type": "code",
   "execution_count": 18,
   "metadata": {},
   "outputs": [
    {
     "name": "stdout",
     "output_type": "stream",
     "text": [
      "[ True  True  True  True]\n",
      "[0.96 0.96 0.99 1.  ]\n"
     ]
    }
   ],
   "source": [
    "# Compare your values to the values in “METRIC.Precision”\n",
    "METRIC=np.array(hapc_sub[\"METRIC.Precision\"])\n",
    "print(np.round(METRIC,2)==np.round(precision,2))\n",
    "\n",
    "#view rounded values\n",
    "print(np.round(precision,2))"
   ]
  },
  {
   "cell_type": "code",
   "execution_count": 65,
   "metadata": {},
   "outputs": [
    {
     "data": {
      "text/plain": [
       "array([0.95807871, 0.9638708 , 0.98895782, 0.99696152])"
      ]
     },
     "execution_count": 65,
     "metadata": {},
     "output_type": "execute_result"
    }
   ],
   "source": []
  },
  {
   "cell_type": "code",
   "execution_count": null,
   "metadata": {},
   "outputs": [],
   "source": []
  }
 ],
 "metadata": {
  "kernelspec": {
   "display_name": "Python 3",
   "language": "python",
   "name": "python3"
  },
  "language_info": {
   "codemirror_mode": {
    "name": "ipython",
    "version": 3
   },
   "file_extension": ".py",
   "mimetype": "text/x-python",
   "name": "python",
   "nbconvert_exporter": "python",
   "pygments_lexer": "ipython3",
   "version": "3.7.6"
  }
 },
 "nbformat": 4,
 "nbformat_minor": 4
}
